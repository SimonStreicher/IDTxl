{
 "cells": [
  {
   "cell_type": "code",
   "execution_count": null,
   "metadata": {},
   "outputs": [],
   "source": [
    "import sys"
   ]
  },
  {
   "cell_type": "code",
   "execution_count": null,
   "metadata": {},
   "outputs": [],
   "source": [
    "sys.path.append('C:/repos/IDTxl/')"
   ]
  },
  {
   "cell_type": "code",
   "execution_count": null,
   "metadata": {},
   "outputs": [],
   "source": [
    "# Import classes\n",
    "from idtxl.bivariate_te import BivariateTE\n",
    "from idtxl.bivariate_mi import BivariateMI\n",
    "from idtxl.multivariate_te import MultivariateTE\n",
    "from idtxl.multivariate_mi import MultivariateMI\n",
    "from idtxl.data import Data\n",
    "from idtxl.visualise_graph import plot_network\n",
    "import matplotlib.pyplot as plt\n",
    "import pandas as pd\n",
    "import numpy as np"
   ]
  },
  {
   "cell_type": "code",
   "execution_count": null,
   "metadata": {},
   "outputs": [],
   "source": [
    "# # a) Generate test data\n",
    "# data = Data()\n",
    "# data.generate_mute_data(n_samples=1000, n_replications=5)\n",
    "\n",
    "# # b) Initialise analysis object and define settings\n",
    "# network_analysis = BivariateTE()\n",
    "# settings = {\n",
    "# #     \"cmi_estimator\": \"JidtGaussianCMI\",\n",
    "#     \"cmi_estimator\": \"JidtKraskovCMI\", \n",
    "#     \"max_lag_sources\": 5,\n",
    "#     \"min_lag_sources\": 1,\n",
    "# }\n",
    "\n",
    "# # c) Run analysis\n",
    "# results = network_analysis.analyse_network(settings=settings, data=data)\n",
    "\n",
    "# # d) Plot inferred network to console and via matplotlib\n",
    "# results.print_edge_list(weights=\"max_te_lag\", fdr=False)\n",
    "# plot_network(results=results, weights=\"max_te_lag\", fdr=False)\n",
    "# plt.show()"
   ]
  },
  {
   "cell_type": "code",
   "execution_count": null,
   "metadata": {},
   "outputs": [],
   "source": [
    "# Import data from file\n",
    "\n",
    "datafilepath = \"./sample_data/dist_FB_x_setpoint_halfhalf.csv\"\n",
    "df = pd.read_csv(datafilepath)\n",
    "df = df.set_index(\"Time\")\n",
    "selected_keys = ['FA', 'FB', 'FC', 'h', 'x', 'v']\n",
    "start_time = 0.1\n",
    "end_time = 20\n",
    "data_array = np.asarray(df.loc[0.1:20.005, selected_keys])\n",
    "# shaped_data_array = np.expand_dims(data_array, axis=2)\n",
    "data = Data(data=data_array, dim_order=\"sp\", normalise=True)"
   ]
  },
  {
   "cell_type": "code",
   "execution_count": null,
   "metadata": {},
   "outputs": [],
   "source": [
    "# b) Initialise analysis object and define settings\n",
    "network_analysis = BivariateTE()\n",
    "settings = {\n",
    "    \"cmi_estimator\": \"JidtKraskovCMI\", \n",
    "    \"max_lag_sources\": 5,\n",
    "    \"min_lag_sources\": 1,\n",
    "    \"permute_in_time\": True,\n",
    "    \"n_perm_max_stat\": 200\n",
    "}\n",
    "target_set = [0, 2, 3, 4, 5]\n",
    "source_set = [1]\n",
    "\n",
    "# c) Run analysis\n",
    "results = network_analysis.analyse_network(sources=source_set, targets=target_set, settings=settings, data=data)\n",
    "# results = network_analysis.analyse_network(settings=settings, data=data)\n",
    "\n",
    "# d) Plot inferred network to console and via matplotlib\n",
    "results.print_edge_list(weights=\"max_te_lag\", fdr=False)\n",
    "plot_network(results=results, weights=\"max_te_lag\", fdr=False)\n",
    "plt.show()"
   ]
  },
  {
   "cell_type": "code",
   "execution_count": null,
   "metadata": {},
   "outputs": [],
   "source": [
    "results.print_edge_list(weights=\"max_te_lag\")"
   ]
  },
  {
   "cell_type": "code",
   "execution_count": null,
   "metadata": {},
   "outputs": [],
   "source": []
  }
 ],
 "metadata": {
  "kernelspec": {
   "display_name": "Python 3",
   "language": "python",
   "name": "python3"
  },
  "language_info": {
   "codemirror_mode": {
    "name": "ipython",
    "version": 3
   },
   "file_extension": ".py",
   "mimetype": "text/x-python",
   "name": "python",
   "nbconvert_exporter": "python",
   "pygments_lexer": "ipython3",
   "version": "3.7.0"
  }
 },
 "nbformat": 4,
 "nbformat_minor": 2
}
